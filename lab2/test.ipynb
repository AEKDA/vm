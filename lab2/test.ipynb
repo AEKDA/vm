{
 "cells": [
  {
   "cell_type": "code",
   "execution_count": 215,
   "metadata": {},
   "outputs": [],
   "source": [
    "import sympy as sp\n",
    "import numpy as np\n",
    "import re\n",
    "\n",
    "\n",
    "def func_from_expression(exp):\n",
    "    try:\n",
    "        expression = re.sub(r\"(\\d+)([a-zA-Z])\", r\"\\1*\\2\", exp)\n",
    "        f = sp.sympify(expression)\n",
    "        return f\n",
    "    except:\n",
    "        raise ValueError(\"Неверный ввод. Введите корректное математическое выражение.\")\n",
    "\n",
    "\n",
    "def read_math_func(funcs: list[str]):\n",
    "\n",
    "    print(\"Введите номер уравнения или введите свое: \")\n",
    "    for index, fun in enumerate(funcs):\n",
    "        print(f\"{index+1}. {fun}\")\n",
    "    ans = input(\"Ввод: \")\n",
    "\n",
    "    try:\n",
    "        if ans.isdigit():\n",
    "            expression = funcs[int(ans) - 1]\n",
    "        else:\n",
    "            expression = re.sub(r\"(\\d+)([a-zA-Z])\", r\"\\1*\\2\", ans)\n",
    "\n",
    "        f = sp.sympify(expression)\n",
    "        print(\"Исходная функция:\", f)\n",
    "        return f\n",
    "    except:\n",
    "        raise ValueError(\"Неверный ввод. Введите корректное математическое выражение.\")"
   ]
  },
  {
   "cell_type": "code",
   "execution_count": 230,
   "metadata": {},
   "outputs": [
    {
     "name": "stdout",
     "output_type": "stream",
     "text": [
      "Введите номер уравнения или введите свое: \n",
      "1. x^2 + 3*x\n",
      "2. x**11\n",
      "3. x^3 - 1.89*x^2 - 2*x + 1.76\n",
      "Исходная функция: x**3 - 1.89*x**2 - 2*x + 1.76\n"
     ]
    }
   ],
   "source": [
    "f = read_math_func([\"x^2 + 3*x\", \"x**11\", \"x^3 - 1.89*x^2 - 2*x + 1.76\"])"
   ]
  },
  {
   "cell_type": "code",
   "execution_count": null,
   "metadata": {},
   "outputs": [],
   "source": [
    "def method(methods: list[str]):\n",
    "\n",
    "    print(\"Введите номер метода: \")\n",
    "    for index, method in enumerate(methods):\n",
    "        print(f\"{index+1}. {method}\")\n",
    "\n",
    "    ans = input(\"Ввод: \")\n",
    "\n",
    "    if not ans.isdigit() or int(ans) - 1 not in [\n",
    "        index for index, _ in (enumerate(methods))\n",
    "    ]:\n",
    "        raise ValueError(\"Неверный ввод. Метода с указаным номером не существует\")\n",
    "    return methods[int(ans) - 1]"
   ]
  },
  {
   "cell_type": "code",
   "execution_count": null,
   "metadata": {},
   "outputs": [
    {
     "name": "stdout",
     "output_type": "stream",
     "text": [
      "Введите номер метода: \n",
      "1. newton\n",
      "2. half-division\n",
      "3. iteration\n",
      "4. system-iteration\n",
      "iteration\n"
     ]
    }
   ],
   "source": [
    "methods = [\"newton\", \"half-division\", \"iteration\", \"system-iteration\"]\n",
    "\n",
    "print(method(methods))"
   ]
  },
  {
   "cell_type": "code",
   "execution_count": 272,
   "metadata": {},
   "outputs": [],
   "source": [
    "def half_div(f, a: int, b: int, eps: int):\n",
    "    x_symbol = sp.Symbol(\"x\")\n",
    "\n",
    "    while True:\n",
    "        x = (a + b) / 2\n",
    "\n",
    "        val_x = f.subs(x_symbol, x)\n",
    "        val_a = f.subs(x_symbol, a)\n",
    "\n",
    "        if val_a * val_x > 0:\n",
    "            a = x\n",
    "        else:\n",
    "            b = x\n",
    "\n",
    "        print(a, b, x, val_a, f.subs(x_symbol, b), val_x, abs(val_x), sep=\"; \")\n",
    "        if abs(val_x) < eps:\n",
    "            break\n",
    "    return x"
   ]
  },
  {
   "cell_type": "code",
   "execution_count": 273,
   "metadata": {},
   "outputs": [
    {
     "name": "stdout",
     "output_type": "stream",
     "text": [
      "-1.5; -1; -1.5; -9.80000000000000; 0.870000000000000; -2.86750000000000; 2.86750000000000\n",
      "-1.25; -1; -1.25; -2.86750000000000; 0.870000000000000; -0.646250000000000; 0.646250000000000\n",
      "-1.25; -1.125; -1.125; -0.646250000000000; 0.194140625000000; 0.194140625000000; 0.194140625000000\n",
      "-1.1875; -1.125; -1.1875; -0.646250000000000; 0.194140625000000; -0.204755859375000; 0.204755859375000\n",
      "-1.15625; -1.125; -1.15625; -0.204755859375000; 0.194140625000000; -7.44628906250711e-5; 7.44628906250711e-5\n"
     ]
    },
    {
     "data": {
      "text/plain": [
       "-1.15625"
      ]
     },
     "execution_count": 273,
     "metadata": {},
     "output_type": "execute_result"
    }
   ],
   "source": [
    "half_div(f, -2, -1, 0.1)"
   ]
  },
  {
   "cell_type": "code",
   "execution_count": null,
   "metadata": {},
   "outputs": [],
   "source": [
    "def newton(f, a: int, b: int, eps: int):\n",
    "    x_symbol = sp.Symbol(\"x\")\n",
    "\n",
    "    df = sp.diff(f, x_symbol)\n",
    "    ddf = sp.diff(df, x_symbol)\n",
    "\n",
    "    if ddf.subs(x_symbol, a) * f.subs(x_symbol, a) > 0:\n",
    "        x = a\n",
    "    else:\n",
    "        x = b\n",
    "\n",
    "    while True:\n",
    "        val_x = f.subs(x_symbol, x)\n",
    "        dval_x = df.subs(x_symbol, x)\n",
    "        x = x - val_x / dval_x\n",
    "\n",
    "        if abs(val_x) < eps:\n",
    "            break\n",
    "    return x.evalf()"
   ]
  },
  {
   "cell_type": "code",
   "execution_count": null,
   "metadata": {},
   "outputs": [
    {
     "data": {
      "text/latex": [
       "$\\displaystyle -1.15623833108674$"
      ],
      "text/plain": [
       "-1.15623833108674"
      ]
     },
     "execution_count": 171,
     "metadata": {},
     "output_type": "execute_result"
    }
   ],
   "source": [
    "newton(f, -4, -1, 0.0001)"
   ]
  },
  {
   "cell_type": "code",
   "execution_count": 253,
   "metadata": {},
   "outputs": [],
   "source": [
    "def iter(f, a, b, eps):\n",
    "    x_symbol = sp.Symbol(\"x\")\n",
    "    df = sp.diff(f, x_symbol)\n",
    "    df_a, df_b = df.subs(x_symbol, a), df.subs(x_symbol, b)\n",
    "\n",
    "    lam = -1 / max(df_a, df_b) * (df_a / abs(df_a))\n",
    "\n",
    "    x = a\n",
    "    while True:\n",
    "        new = x + lam * f.subs(x_symbol, x)\n",
    "\n",
    "        print(\n",
    "            x,\n",
    "            new,\n",
    "            x + lam * f.subs(x_symbol, x),\n",
    "            f.subs(x_symbol, x),\n",
    "            abs(new - x),\n",
    "            sep=\"; \",\n",
    "        )\n",
    "        if abs(new - x) < eps:\n",
    "            return new\n",
    "        x = new"
   ]
  },
  {
   "cell_type": "code",
   "execution_count": 254,
   "metadata": {},
   "outputs": [
    {
     "name": "stdout",
     "output_type": "stream",
     "text": [
      "2; 2.13177159590044; 2.13177159590044; -1.80000000000000; 0.131771595900439\n",
      "2.13177159590044; 2.23461377962424; 2.23461377962424; -1.40482422966716; 0.102842183723804\n",
      "2.23461377962424; 2.30697095996831; 2.30697095996831; -0.988399083499910; 0.0723571803440639\n"
     ]
    },
    {
     "data": {
      "text/latex": [
       "$\\displaystyle 2.30697095996831$"
      ],
      "text/plain": [
       "2.30697095996831"
      ]
     },
     "execution_count": 254,
     "metadata": {},
     "output_type": "execute_result"
    }
   ],
   "source": [
    "iter(f, 2, 3, 0.1)"
   ]
  },
  {
   "cell_type": "code",
   "execution_count": 348,
   "metadata": {},
   "outputs": [],
   "source": [
    "def system_iter(funcs, init_approx, a, b, eps):\n",
    "\n",
    "    x_symbol = sp.Symbol(\"x\")\n",
    "    y_symbol = sp.Symbol(\"y\")\n",
    "\n",
    "    while True:\n",
    "        tmp = []\n",
    "        isEnd = True\n",
    "        for func in funcs:\n",
    "            v = func.subs({x_symbol: init_approx[0], y_symbol: init_approx[1]})\n",
    "            tmp.append(v)\n",
    "        for i in range(len(tmp)):\n",
    "            if not (abs(tmp[i] - init_approx[i]) <= eps):\n",
    "                isEnd = False\n",
    "                break\n",
    "        init_approx = tmp\n",
    "        if isEnd:\n",
    "            break\n",
    "\n",
    "    return init_approx"
   ]
  },
  {
   "cell_type": "code",
   "execution_count": 351,
   "metadata": {},
   "outputs": [
    {
     "data": {
      "text/plain": [
       "[3.35545609519338, 1.20666240376498]"
      ]
     },
     "execution_count": 351,
     "metadata": {},
     "output_type": "execute_result"
    }
   ],
   "source": [
    "f1, f2 = func_from_expression(\"3 + cos(y)\"), func_from_expression(\"0.5 - cos(x-1)\")\n",
    "\n",
    "[i.evalf() for i in system_iter([f1, f2], [3, 1], -2, -1, 0.001)]"
   ]
  },
  {
   "cell_type": "code",
   "execution_count": 315,
   "metadata": {},
   "outputs": [],
   "source": [
    "def secant(f, a: int, b: int, eps: int):\n",
    "    x_symbol = sp.Symbol(\"x\")\n",
    "\n",
    "    df = sp.diff(f, x_symbol)\n",
    "    ddf = sp.diff(df, x_symbol)\n",
    "\n",
    "    if ddf.subs(x_symbol, a) * f.subs(x_symbol, a) > 0:\n",
    "        x = a\n",
    "        prev = x - 0.1\n",
    "    else:\n",
    "        x = b\n",
    "        prev = x + 0.1\n",
    "\n",
    "    while True:\n",
    "        val_x = f.subs(x_symbol, x)\n",
    "        dval_x = f.subs(x_symbol, prev)\n",
    "        tmp_prev = prev\n",
    "        x, prev = x - (x - prev) / (val_x - dval_x) * val_x, x\n",
    "\n",
    "        print(\n",
    "            tmp_prev,\n",
    "            prev,\n",
    "            x,\n",
    "            f.subs(x_symbol, x),\n",
    "            abs(x - prev),\n",
    "            sep=\"; \",\n",
    "        )\n",
    "        if abs(val_x) < eps:\n",
    "            break\n",
    "    return x.evalf()"
   ]
  },
  {
   "cell_type": "code",
   "execution_count": 317,
   "metadata": {},
   "outputs": [
    {
     "name": "stdout",
     "output_type": "stream",
     "text": [
      "1.1; 1; 0.575028206092516; 0.175138383659651; 0.424971793907484\n",
      "1; 0.575028206092516; 0.632055778047911; -0.00665336232929226; 0.0570275719553954\n",
      "0.575028206092516; 0.632055778047911; 0.629968636539285; 6.07139407104995e-6; 0.00208714150862555\n"
     ]
    },
    {
     "data": {
      "text/latex": [
       "$\\displaystyle 0.629968636539285$"
      ],
      "text/plain": [
       "0.629968636539285"
      ]
     },
     "execution_count": 317,
     "metadata": {},
     "output_type": "execute_result"
    }
   ],
   "source": [
    "secant(f, 0, 1, 0.01)"
   ]
  },
  {
   "cell_type": "code",
   "execution_count": 339,
   "metadata": {},
   "outputs": [],
   "source": [
    "import math\n",
    "\n",
    "def system_newton(x, y, eps):\n",
    "    print((((0.8 *y + 4.8 * x * y - 4 * y * math.sin(x+y))/(math.cos(x + y))) - 1 + x **2 + 2 * y * y) / (4 * y - 2 *x))\n",
    "    \n",
    "\n",
    "    while True:\n",
    "        d_x = (((0.8 *y + 4.8 * x * y - 4 * y * math.sin(x+y))/(math.cos(x + y))) - 1 + x **2 + 2 * y * y) / (4 * y - 2 *x)\n",
    "        d_y = (1 - x**2 - 2 * y**2 - 2 * x * d_x) / (4 * y)\n",
    "        x1 = x + d_x\n",
    "        y1 = y + d_y\n",
    "        if abs(x1 - x) <= eps or abs(y1 - y) <= eps:\n",
    "            break\n",
    "        x = x1\n",
    "        y = y1\n",
    "\n",
    "    return d_x, d_y\n",
    "# cos(-0.03322430890050499)x + cos(-0.03322430890050499)y = 0.2 + 1.2 * 0.0002180488656566765 - sin(-0.03322430890050499)\n",
    "# 2 * 0.0002180488656566765 *x + 4 * (-0.03344235776616167)* y = 1 - 0.0002180488656566765 * 0.0002180488656566765 - 2 * 0.03344235776616167 * 0.03344235776616167"
   ]
  },
  {
   "cell_type": "code",
   "execution_count": 340,
   "metadata": {},
   "outputs": [
    {
     "name": "stdout",
     "output_type": "stream",
     "text": [
      "-1.358314566299628\n"
     ]
    },
    {
     "ename": "KeyboardInterrupt",
     "evalue": "",
     "output_type": "error",
     "traceback": [
      "\u001b[1;31m---------------------------------------------------------------------------\u001b[0m",
      "\u001b[1;31mKeyboardInterrupt\u001b[0m                         Traceback (most recent call last)",
      "Cell \u001b[1;32mIn[340], line 1\u001b[0m\n\u001b[1;32m----> 1\u001b[0m \u001b[43msystem_newton\u001b[49m\u001b[43m(\u001b[49m\u001b[38;5;241;43m1\u001b[39;49m\u001b[43m,\u001b[49m\u001b[43m \u001b[49m\u001b[38;5;241;43m1\u001b[39;49m\u001b[43m,\u001b[49m\u001b[43m \u001b[49m\u001b[38;5;241;43m0.01\u001b[39;49m\u001b[43m)\u001b[49m\n",
      "Cell \u001b[1;32mIn[339], line 12\u001b[0m, in \u001b[0;36msystem_newton\u001b[1;34m(x, y, eps)\u001b[0m\n\u001b[0;32m     10\u001b[0m x1 \u001b[38;5;241m=\u001b[39m x \u001b[38;5;241m+\u001b[39m d_x\n\u001b[0;32m     11\u001b[0m y1 \u001b[38;5;241m=\u001b[39m y \u001b[38;5;241m+\u001b[39m d_y\n\u001b[1;32m---> 12\u001b[0m \u001b[38;5;28;01mif\u001b[39;00m \u001b[38;5;28mabs\u001b[39m(x1 \u001b[38;5;241m-\u001b[39m x) \u001b[38;5;241m<\u001b[39m\u001b[38;5;241m=\u001b[39m eps \u001b[38;5;129;01mor\u001b[39;00m \u001b[38;5;28mabs\u001b[39m(y1 \u001b[38;5;241m-\u001b[39m y) \u001b[38;5;241m<\u001b[39m\u001b[38;5;241m=\u001b[39m eps:\n\u001b[0;32m     13\u001b[0m     \u001b[38;5;28;01mbreak\u001b[39;00m\n\u001b[0;32m     14\u001b[0m x \u001b[38;5;241m=\u001b[39m x1\n",
      "\u001b[1;31mKeyboardInterrupt\u001b[0m: "
     ]
    }
   ],
   "source": [
    "system_newton(1, 1, 0.01)"
   ]
  }
 ],
 "metadata": {
  "kernelspec": {
   "display_name": "Python 3",
   "language": "python",
   "name": "python3"
  },
  "language_info": {
   "codemirror_mode": {
    "name": "ipython",
    "version": 3
   },
   "file_extension": ".py",
   "mimetype": "text/x-python",
   "name": "python",
   "nbconvert_exporter": "python",
   "pygments_lexer": "ipython3",
   "version": "3.11.0"
  }
 },
 "nbformat": 4,
 "nbformat_minor": 2
}
