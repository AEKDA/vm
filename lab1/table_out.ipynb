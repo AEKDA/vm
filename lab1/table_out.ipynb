{
 "cells": [
  {
   "cell_type": "code",
   "execution_count": 1142,
   "metadata": {},
   "outputs": [],
   "source": [
    "import input as i\n",
    "\n",
    "matrix, accuracy = i.reader().read_from_file(\"tests/matrix3x3.txt\")"
   ]
  },
  {
   "cell_type": "code",
   "execution_count": 1143,
   "metadata": {},
   "outputs": [],
   "source": [
    "import numpy as np\n",
    "\n",
    "\n",
    "def sort_diagonal_predominance(A: np.ndarray[np.float64]):\n",
    "    indeces = []\n",
    "\n",
    "    strict = False\n",
    "    for row in A:\n",
    "        if max(row) >= sum(row) - max(row):\n",
    "            if max(row) > sum(row) - max(row):\n",
    "                strict = True\n",
    "            indeces.append(np.argmax(row))\n",
    "        else:\n",
    "            raise ValueError(\"impossible!\")\n",
    "\n",
    "    uniq = set(indeces)\n",
    "    if len(uniq) != len(indeces) or not (strict):\n",
    "        raise ValueError(\"impossible!\")\n",
    "\n",
    "    A = np.take(A, indeces, axis=1)\n",
    "\n",
    "    return A"
   ]
  },
  {
   "cell_type": "code",
   "execution_count": 1144,
   "metadata": {},
   "outputs": [],
   "source": [
    "try:\n",
    "    A = sort_diagonal_predominance(matrix[:, :-1])\n",
    "except:\n",
    "    A = matrix[:, :-1]"
   ]
  },
  {
   "cell_type": "code",
   "execution_count": 1145,
   "metadata": {},
   "outputs": [
    {
     "data": {
      "text/plain": [
       "array([[14.],\n",
       "       [12.],\n",
       "       [13.]])"
      ]
     },
     "execution_count": 1145,
     "metadata": {},
     "output_type": "execute_result"
    }
   ],
   "source": [
    "matrix[:, -1:]"
   ]
  },
  {
   "cell_type": "code",
   "execution_count": 1146,
   "metadata": {},
   "outputs": [],
   "source": [
    "def make_C_and_D_matrix(A, B):\n",
    "    matrix = np.hstack((A, B * -1))\n",
    "    res = np.zeros((0, matrix.shape[1]))\n",
    "    for index, row in enumerate(matrix):\n",
    "        tmp = row / row[index]\n",
    "        tmp[index] = 0\n",
    "        res = np.vstack((res, tmp))\n",
    "    res = res * -1\n",
    "    print(res, \"\\n\")\n",
    "    return res[:, :-1], res[:, -1:]"
   ]
  },
  {
   "cell_type": "code",
   "execution_count": 1147,
   "metadata": {},
   "outputs": [
    {
     "name": "stdout",
     "output_type": "stream",
     "text": [
      "[[-0.  -0.2 -0.2  1.4]\n",
      " [-0.1 -0.  -0.1  1.2]\n",
      " [-0.1 -0.2 -0.   1.3]] \n",
      "\n",
      "[[-0.  -0.2 -0.2]\n",
      " [-0.1 -0.  -0.1]\n",
      " [-0.1 -0.2 -0. ]] \n",
      "\n",
      "[[1.4]\n",
      " [1.2]\n",
      " [1.3]]\n"
     ]
    }
   ],
   "source": [
    "C, D = make_C_and_D_matrix(A, matrix[:, -1:])\n",
    "print(C, \"\\n\")\n",
    "print(D)"
   ]
  },
  {
   "cell_type": "code",
   "execution_count": 1148,
   "metadata": {},
   "outputs": [],
   "source": [
    "def check_norma(A: np.ndarray[np.float64]):\n",
    "    return norma(A) < 1\n",
    "\n",
    "\n",
    "def norma(A: np.ndarray[np.float64]):\n",
    "    return max([sum(abs(row)) for row in A])"
   ]
  },
  {
   "cell_type": "code",
   "execution_count": 1149,
   "metadata": {},
   "outputs": [
    {
     "data": {
      "text/plain": [
       "True"
      ]
     },
     "execution_count": 1149,
     "metadata": {},
     "output_type": "execute_result"
    }
   ],
   "source": [
    "check_norma(C)"
   ]
  },
  {
   "cell_type": "code",
   "execution_count": 1150,
   "metadata": {},
   "outputs": [],
   "source": [
    "def abs_deviations(k: np.ndarray[np.float64], prev: np.ndarray[np.float64]) -> int:\n",
    "    return max(abs(k - prev))[0]\n",
    "\n",
    "\n",
    "def discrepancy():\n",
    "    return 0\n",
    "\n",
    "\n",
    "def relative_differences():\n",
    "    return 0"
   ]
  },
  {
   "cell_type": "code",
   "execution_count": 1151,
   "metadata": {},
   "outputs": [],
   "source": [
    "def iterational_method(C, D: np.ndarray[np.float64], accuracy, max_iter):\n",
    "    headers = [\"x \" + str(i) for i in range(C.shape[0], 0, -1)]\n",
    "    headers.append(\"Критерий по абсолютным отклонениям\")\n",
    "    headers.append(\"Критерий по относительным разностям\")\n",
    "    headers.append(\"Критерий по невязке\")\n",
    "\n",
    "    accuracy_list = [0, 0, 0]\n",
    "    result_matrix = [D]\n",
    "    x = D\n",
    "    for _ in range(max_iter - 1):\n",
    "        x = C @ x + D\n",
    "        criteria_abs = abs_deviations(x, result_matrix[-1])\n",
    "        criteria_disc = discrepancy()\n",
    "        criteria_rel = relative_differences()\n",
    "        result_matrix.append(x)\n",
    "        accuracy_list.append(criteria_abs)\n",
    "        accuracy_list.append(criteria_disc)\n",
    "        accuracy_list.append(criteria_rel)\n",
    "        if (\n",
    "            criteria_abs <= accuracy\n",
    "            and criteria_disc <= accuracy\n",
    "            and criteria_rel <= accuracy\n",
    "        ):\n",
    "            res = np.squeeze(np.array(result_matrix))\n",
    "            result = np.hstack((res, np.array(accuracy_list).reshape(-1, 3)))\n",
    "            return result, headers\n",
    "\n",
    "    print(\"Достигли максимального кол-во итераций\")\n",
    "\n",
    "    res = np.squeeze(np.array(result_matrix))\n",
    "    result = np.hstack((res, np.array(accuracy_list).reshape(-1, 3)))\n",
    "    return result, headers\n"
   ]
  },
  {
   "cell_type": "code",
   "execution_count": 1152,
   "metadata": {},
   "outputs": [
    {
     "name": "stdout",
     "output_type": "stream",
     "text": [
      "     x 3       x 2      x 1    Критерий по абсолютным отклонениям    Критерий по относительным разностям    Критерий по невязке\n",
      "--------  --------  -------  ------------------------------------  -------------------------------------  ---------------------\n",
      "1.4       1.2       1.3                                  0                                             0                      0\n",
      "0.9       0.93      0.92                                 0.5                                           0                      0\n",
      "1.03      1.018     1.024                                0.13                                          0                      0\n",
      "0.9916    0.9946    0.9934                               0.0384                                        0                      0\n",
      "1.0024    1.0015    1.00192                              0.0108                                        0                      0\n",
      "0.999316  0.999568  0.99946                              0.003084                                      0                      0\n"
     ]
    }
   ],
   "source": [
    "import util\n",
    "\n",
    "res, headers = iterational_method(C, D, 0.01                                                    , 1000)\n",
    "                                    \n",
    "util.print_table(res, headers)"
   ]
  }
 ],
 "metadata": {
  "kernelspec": {
   "display_name": "Python 3",
   "language": "python",
   "name": "python3"
  },
  "language_info": {
   "codemirror_mode": {
    "name": "ipython",
    "version": 3
   },
   "file_extension": ".py",
   "mimetype": "text/x-python",
   "name": "python",
   "nbconvert_exporter": "python",
   "pygments_lexer": "ipython3",
   "version": "3.11.0"
  }
 },
 "nbformat": 4,
 "nbformat_minor": 2
}
