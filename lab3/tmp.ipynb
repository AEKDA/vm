{
 "cells": [
  {
   "cell_type": "code",
   "execution_count": 93,
   "metadata": {},
   "outputs": [],
   "source": [
    "def trapeze(f, a: float, b: float, n) -> float:\n",
    "    h = (b - a) / n\n",
    "    ans = 0\n",
    "    for i in range(1, n ):\n",
    "        val = f(a + i * h)\n",
    "        ans += val\n",
    "        print(f\"x{i}: {a + i*h} f(x) {val}\")\n",
    "\n",
    "    print(f\"Сумма {ans}\")\n",
    "\n",
    "    return h * ((f(a) + f(b)) / 2 + sum([f(a + i * h) for i in range(1, int(n))]))\n",
    "\n",
    "\n",
    "def middle(f, a: float, b: float, n) -> float:\n",
    "\n",
    "    h = (b - a) / n\n",
    "    ans = 0\n",
    "    for i in range(1, n + 1):\n",
    "        step = (a + i * h) - h * 1 / 2\n",
    "        ans = ans + f((a + i * h) - h * 1 / 2) * h\n",
    "\n",
    "        print(f\"x{i}: {step} f(x): {f(step)} Сумма: {ans}\")\n",
    "\n",
    "    return ans\n",
    "\n",
    "\n",
    "def left(f, a: float, b: float, n) -> float:\n",
    "    h = (b - a) / n\n",
    "    ans = 0\n",
    "    for i in range(0, n):\n",
    "        step = a + i * h\n",
    "        ans = ans + f(step) * h\n",
    "\n",
    "        print(f\"x{i+1}: {step} f(x): {f(step)} Сумма: {ans}\")\n",
    "\n",
    "    return ans\n",
    "\n",
    "\n",
    "def right(f, a: float, b: float, n) -> float:\n",
    "    h = (b - a) / n\n",
    "    ans = 0\n",
    "    for i in range(1, n + 1):\n",
    "        step = a + (i) * h\n",
    "        ans = ans + f(step) * h\n",
    "\n",
    "        print(f\"x{i}: {step} f(x): {f(step)} Сумма: {ans}\")\n",
    "\n",
    "    return ans\n",
    "\n",
    "\n",
    "def simpson(f, a: float, b: float, n) -> float:\n",
    "    h = (b - a) / n\n",
    "\n",
    "    print(sum([f(a + i * h) for i in range(1, int(n), 2)]))\n",
    "    print(sum([f(a + i * h) for i in range(2, int(n) - 1, 2)]))\n",
    "    print(sum([f(a + i * h) for i in range(2, int(n) - 1, 2)]))\n",
    "    print(f(a))\n",
    "    print(f(b))\n",
    "\n",
    "    return (\n",
    "        h\n",
    "        / 3\n",
    "        * (\n",
    "            f(a)\n",
    "            + 4 * sum([f(a + i * h) for i in range(1, int(n), 2)])\n",
    "            + 2 * sum([f(a + i * h) for i in range(2, int(n) - 1, 2)])\n",
    "            + f(b)\n",
    "        )\n",
    "    )"
   ]
  },
  {
   "cell_type": "code",
   "execution_count": 94,
   "metadata": {},
   "outputs": [],
   "source": [
    "def f(x):\n",
    "    return -2 * x**3 - 4 * x**2 + 8 * x - 4"
   ]
  },
  {
   "cell_type": "code",
   "execution_count": 95,
   "metadata": {},
   "outputs": [
    {
     "name": "stdout",
     "output_type": "stream",
     "text": [
      "-87.2\n",
      "-73.6\n",
      "-73.6\n",
      "-10\n",
      "-14\n",
      "-34.666666666666664\n"
     ]
    }
   ],
   "source": [
    "# print(right(f, -3, -1, 10))\n",
    "# print(left(f, -3, -1, 10))\n",
    "# print(middle(f, -3, -1, 10))\n",
    "# print(trapeze(f, -3, -1, 10))\n",
    "print(simpson(f, -3, -1, 10))"
   ]
  },
  {
   "cell_type": "code",
   "execution_count": 99,
   "metadata": {},
   "outputs": [
    {
     "name": "stdout",
     "output_type": "stream",
     "text": [
      "-34.575661375661376\n"
     ]
    }
   ],
   "source": [
    "def new():\n",
    "    k = [82 / 840, 432 / 840, 52 / 840, 544 / 840, 52 / 840, 432 / 840, 82 / 840]\n",
    "    ans = 0\n",
    "    for i in range(len(k)):\n",
    "        v =  f(-3 + i / 3)\n",
    "        ans += v * k[i]\n",
    "\n",
    "    print(ans)\n",
    "    pass\n",
    "\n",
    "\n",
    "new()"
   ]
  }
 ],
 "metadata": {
  "kernelspec": {
   "display_name": "Python 3",
   "language": "python",
   "name": "python3"
  },
  "language_info": {
   "codemirror_mode": {
    "name": "ipython",
    "version": 3
   },
   "file_extension": ".py",
   "mimetype": "text/x-python",
   "name": "python",
   "nbconvert_exporter": "python",
   "pygments_lexer": "ipython3",
   "version": "3.11.0"
  }
 },
 "nbformat": 4,
 "nbformat_minor": 2
}
